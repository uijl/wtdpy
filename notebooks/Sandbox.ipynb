{
 "cells": [
  {
   "cell_type": "code",
   "execution_count": 2,
   "metadata": {},
   "outputs": [],
   "source": [
    "import httpx\n",
    "import pandas as pd\n",
    "\n",
    "api_token = \"2uO9r13ItjeQzKEjLyKiT5Gi6WSZ5DfTsyVwP5uNcRghMoNbRscxigabgezy\""
   ]
  },
  {
   "cell_type": "code",
   "execution_count": 3,
   "metadata": {},
   "outputs": [],
   "source": [
    "params = {\"api_token\": api_token, \"limit\": 5}\n",
    "request_url = \"https://api.worldtradingdata.com/api/v1/stock_search\"\n",
    "\n",
    "params.update({\"search_term\": [\"^AEX\", \"^DAX\"]})\n",
    "response = httpx.get(request_url, params=params)\n",
    "response = response.json()"
   ]
  },
  {
   "cell_type": "code",
   "execution_count": 27,
   "metadata": {},
   "outputs": [],
   "source": [
    "params = {\"api_token\": api_token} #, \"output\": \"csv\"}\n",
    "request_url = \"https://api.worldtradingdata.com/api/v1/history\"\n",
    "\n",
    "params.update({\"symbol\": \"^AEX\"})\n",
    "response = httpx.get(request_url, params=params)\n"
   ]
  },
  {
   "cell_type": "code",
   "execution_count": 35,
   "metadata": {},
   "outputs": [],
   "source": [
    "test = {\"Lala\": pd.DataFrame.from_dict(response.json()[\"history\"], orient = \"index\")}"
   ]
  },
  {
   "cell_type": "code",
   "execution_count": 41,
   "metadata": {},
   "outputs": [
    {
     "data": {
      "text/plain": [
       "1"
      ]
     },
     "execution_count": 41,
     "metadata": {},
     "output_type": "execute_result"
    }
   ],
   "source": [
    "list(test.values())[0]"
   ]
  },
  {
   "cell_type": "code",
   "execution_count": 26,
   "metadata": {
    "scrolled": false
   },
   "outputs": [
    {
     "data": {
      "text/html": [
       "<div>\n",
       "<style scoped>\n",
       "    .dataframe tbody tr th:only-of-type {\n",
       "        vertical-align: middle;\n",
       "    }\n",
       "\n",
       "    .dataframe tbody tr th {\n",
       "        vertical-align: top;\n",
       "    }\n",
       "\n",
       "    .dataframe thead th {\n",
       "        text-align: right;\n",
       "    }\n",
       "</style>\n",
       "<table border=\"1\" class=\"dataframe\">\n",
       "  <thead>\n",
       "    <tr style=\"text-align: right;\">\n",
       "      <th></th>\n",
       "      <th>Date</th>\n",
       "      <th>Open</th>\n",
       "      <th>Close</th>\n",
       "      <th>High</th>\n",
       "      <th>Low</th>\n",
       "      <th>Volume</th>\n",
       "    </tr>\n",
       "  </thead>\n",
       "  <tbody>\n",
       "    <tr>\n",
       "      <th>0</th>\n",
       "      <td>2020-03-17</td>\n",
       "      <td>431.65</td>\n",
       "      <td>424.26</td>\n",
       "      <td>432.00</td>\n",
       "      <td>401.46</td>\n",
       "      <td>0</td>\n",
       "    </tr>\n",
       "    <tr>\n",
       "      <th>1</th>\n",
       "      <td>2020-03-16</td>\n",
       "      <td>409.05</td>\n",
       "      <td>416.77</td>\n",
       "      <td>421.36</td>\n",
       "      <td>389.60</td>\n",
       "      <td>0</td>\n",
       "    </tr>\n",
       "    <tr>\n",
       "      <th>2</th>\n",
       "      <td>2020-03-13</td>\n",
       "      <td>451.76</td>\n",
       "      <td>432.85</td>\n",
       "      <td>466.84</td>\n",
       "      <td>425.22</td>\n",
       "      <td>0</td>\n",
       "    </tr>\n",
       "    <tr>\n",
       "      <th>3</th>\n",
       "      <td>2020-03-12</td>\n",
       "      <td>460.95</td>\n",
       "      <td>432.10</td>\n",
       "      <td>463.54</td>\n",
       "      <td>428.09</td>\n",
       "      <td>0</td>\n",
       "    </tr>\n",
       "    <tr>\n",
       "      <th>4</th>\n",
       "      <td>2020-03-11</td>\n",
       "      <td>493.37</td>\n",
       "      <td>484.16</td>\n",
       "      <td>497.66</td>\n",
       "      <td>482.19</td>\n",
       "      <td>0</td>\n",
       "    </tr>\n",
       "    <tr>\n",
       "      <th>...</th>\n",
       "      <td>...</td>\n",
       "      <td>...</td>\n",
       "      <td>...</td>\n",
       "      <td>...</td>\n",
       "      <td>...</td>\n",
       "      <td>...</td>\n",
       "    </tr>\n",
       "    <tr>\n",
       "      <th>5261</th>\n",
       "      <td>1999-11-05</td>\n",
       "      <td>582.93</td>\n",
       "      <td>582.93</td>\n",
       "      <td>582.93</td>\n",
       "      <td>582.93</td>\n",
       "      <td>0</td>\n",
       "    </tr>\n",
       "    <tr>\n",
       "      <th>5262</th>\n",
       "      <td>1999-11-04</td>\n",
       "      <td>584.76</td>\n",
       "      <td>584.76</td>\n",
       "      <td>584.76</td>\n",
       "      <td>584.76</td>\n",
       "      <td>0</td>\n",
       "    </tr>\n",
       "    <tr>\n",
       "      <th>5263</th>\n",
       "      <td>1999-11-03</td>\n",
       "      <td>579.17</td>\n",
       "      <td>579.17</td>\n",
       "      <td>579.17</td>\n",
       "      <td>579.17</td>\n",
       "      <td>0</td>\n",
       "    </tr>\n",
       "    <tr>\n",
       "      <th>5264</th>\n",
       "      <td>1999-11-02</td>\n",
       "      <td>568.99</td>\n",
       "      <td>568.99</td>\n",
       "      <td>568.99</td>\n",
       "      <td>568.99</td>\n",
       "      <td>0</td>\n",
       "    </tr>\n",
       "    <tr>\n",
       "      <th>5265</th>\n",
       "      <td>1999-11-01</td>\n",
       "      <td>569.19</td>\n",
       "      <td>569.19</td>\n",
       "      <td>569.19</td>\n",
       "      <td>569.19</td>\n",
       "      <td>0</td>\n",
       "    </tr>\n",
       "  </tbody>\n",
       "</table>\n",
       "<p>5266 rows × 6 columns</p>\n",
       "</div>"
      ],
      "text/plain": [
       "            Date    Open   Close    High     Low  Volume\n",
       "0     2020-03-17  431.65  424.26  432.00  401.46       0\n",
       "1     2020-03-16  409.05  416.77  421.36  389.60       0\n",
       "2     2020-03-13  451.76  432.85  466.84  425.22       0\n",
       "3     2020-03-12  460.95  432.10  463.54  428.09       0\n",
       "4     2020-03-11  493.37  484.16  497.66  482.19       0\n",
       "...          ...     ...     ...     ...     ...     ...\n",
       "5261  1999-11-05  582.93  582.93  582.93  582.93       0\n",
       "5262  1999-11-04  584.76  584.76  584.76  584.76       0\n",
       "5263  1999-11-03  579.17  579.17  579.17  579.17       0\n",
       "5264  1999-11-02  568.99  568.99  568.99  568.99       0\n",
       "5265  1999-11-01  569.19  569.19  569.19  569.19       0\n",
       "\n",
       "[5266 rows x 6 columns]"
      ]
     },
     "execution_count": 26,
     "metadata": {},
     "output_type": "execute_result"
    }
   ],
   "source": [
    "import io\n",
    "pd.read_csv(io.StringIO(response.content.decode('utf-8')))"
   ]
  },
  {
   "cell_type": "code",
   "execution_count": null,
   "metadata": {},
   "outputs": [],
   "source": []
  },
  {
   "cell_type": "code",
   "execution_count": null,
   "metadata": {},
   "outputs": [],
   "source": []
  }
 ],
 "metadata": {
  "kernelspec": {
   "display_name": "Python 3",
   "language": "python",
   "name": "python3"
  },
  "language_info": {
   "codemirror_mode": {
    "name": "ipython",
    "version": 3
   },
   "file_extension": ".py",
   "mimetype": "text/x-python",
   "name": "python",
   "nbconvert_exporter": "python",
   "pygments_lexer": "ipython3",
   "version": "3.6.9"
  }
 },
 "nbformat": 4,
 "nbformat_minor": 4
}
