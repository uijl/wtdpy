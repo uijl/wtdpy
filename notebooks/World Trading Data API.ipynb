{
 "cells": [
  {
   "cell_type": "markdown",
   "metadata": {},
   "source": [
    "# Basic example of WTDpy\n",
    "\n",
    "Below is a basic example of using the `wtdpy` package. We start with importing the package, if this fails please install it either from github or from pypi."
   ]
  },
  {
   "cell_type": "code",
   "execution_count": 1,
   "metadata": {},
   "outputs": [],
   "source": [
    "from wtdpy import WTDpy"
   ]
  },
  {
   "cell_type": "markdown",
   "metadata": {},
   "source": [
    "#### Load the class with your API key\n",
    "\n",
    "If you do not yet have an API key from World Trading Data please [create an account](https://www.worldtradingdata.com/) to request one."
   ]
  },
  {
   "cell_type": "code",
   "execution_count": 2,
   "metadata": {},
   "outputs": [],
   "source": [
    "your_api_token = \"2uO9r13ItjeQzKEjLyKiT5Gi6WSZ5DfTsyVwP5uNcRghMoNbRscxigabgezy\"\n",
    "# your_api_token = \"your_api_token\"\n",
    "\n",
    "wtd = WTDpy(api_token = your_api_token)"
   ]
  },
  {
   "cell_type": "markdown",
   "metadata": {},
   "source": [
    "#### Look up historical data\n",
    "\n",
    "First step is making sure our tickers are correct. I am interested in the Amsterdam Stock Exchange (symbol = `^AEX`) and the German Stock Exchange (symbol = `^DAX`). The cell below checks whether these symbols are available."
   ]
  },
  {
   "cell_type": "code",
   "execution_count": 3,
   "metadata": {
    "scrolled": false
   },
   "outputs": [
    {
     "data": {
      "text/plain": [
       "True"
      ]
     },
     "execution_count": 3,
     "metadata": {},
     "output_type": "execute_result"
    }
   ],
   "source": [
    "symbols = [\"^AEX\", \"^DAX\"]\n",
    "\n",
    "wtd.search_available_data(\"^AEX\")"
   ]
  },
  {
   "cell_type": "markdown",
   "metadata": {},
   "source": [
    "If you are not sure that the data excists."
   ]
  },
  {
   "cell_type": "code",
   "execution_count": null,
   "metadata": {},
   "outputs": [],
   "source": []
  },
  {
   "cell_type": "markdown",
   "metadata": {},
   "source": [
    "If you have the correct symbols we can request the data. This is possible by doing it one by one, as shown in the cell below. Or by feeding both symbols into the API, as shown in the second cell."
   ]
  },
  {
   "cell_type": "code",
   "execution_count": 4,
   "metadata": {},
   "outputs": [
    {
     "data": {
      "text/plain": [
       "<Response [200 OK]>"
      ]
     },
     "execution_count": 4,
     "metadata": {},
     "output_type": "execute_result"
    }
   ],
   "source": [
    "wtd.get_historical_data(\"^AEX\")"
   ]
  },
  {
   "cell_type": "code",
   "execution_count": null,
   "metadata": {},
   "outputs": [],
   "source": [
    "wtd.get_historical_data(symbols)"
   ]
  }
 ],
 "metadata": {
  "kernelspec": {
   "display_name": "Python 3",
   "language": "python",
   "name": "python3"
  },
  "language_info": {
   "codemirror_mode": {
    "name": "ipython",
    "version": 3
   },
   "file_extension": ".py",
   "mimetype": "text/x-python",
   "name": "python",
   "nbconvert_exporter": "python",
   "pygments_lexer": "ipython3",
   "version": "3.6.9"
  }
 },
 "nbformat": 4,
 "nbformat_minor": 4
}
